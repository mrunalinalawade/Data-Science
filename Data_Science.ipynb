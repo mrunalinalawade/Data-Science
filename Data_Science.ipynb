{
  "cells": [
    {
      "cell_type": "code",
      "execution_count": 4,
      "metadata": {
        "id": "NZAIhF08JEDl"
      },
      "outputs": [],
      "source": [
        "import pandas as pd\n",
        "import numpy as np\n",
        "from sklearn.feature_extraction.text import TfidfVectorizer\n",
        "import difflib\n",
        "from sklearn.metrics.pairwise import cosine_similarity\n",
        "import io\n",
        "import statistics"
      ]
    },
    {
      "cell_type": "code",
      "execution_count": 5,
      "metadata": {
        "colab": {
          "base_uri": "https://localhost:8080/",
          "height": 73,
          "resources": {
            "http://localhost:8080/nbextensions/google.colab/files.js": {
              "data": "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",
              "headers": [
                [
                  "content-type",
                  "application/javascript"
                ]
              ],
              "ok": true,
              "status": 200,
              "status_text": ""
            }
          }
        },
        "id": "8GbuFaKJLtLR",
        "outputId": "15d2d29d-ab43-4daf-8742-ff6e2db11510"
      },
      "outputs": [
        {
          "output_type": "display_data",
          "data": {
            "text/plain": [
              "<IPython.core.display.HTML object>"
            ],
            "text/html": [
              "\n",
              "     <input type=\"file\" id=\"files-44edd843-5bed-4e6c-ad3f-e23c8d695831\" name=\"files[]\" multiple disabled\n",
              "        style=\"border:none\" />\n",
              "     <output id=\"result-44edd843-5bed-4e6c-ad3f-e23c8d695831\">\n",
              "      Upload widget is only available when the cell has been executed in the\n",
              "      current browser session. Please rerun this cell to enable.\n",
              "      </output>\n",
              "      <script src=\"/nbextensions/google.colab/files.js\"></script> "
            ]
          },
          "metadata": {}
        },
        {
          "output_type": "stream",
          "name": "stdout",
          "text": [
            "Saving tcc_ceds_music.csv to tcc_ceds_music (2).csv\n"
          ]
        }
      ],
      "source": [
        "from google.colab import files\n",
        "myuploads=files.upload()"
      ]
    },
    {
      "cell_type": "code",
      "execution_count": 6,
      "metadata": {
        "id": "KlGQvkKRQA5A"
      },
      "outputs": [],
      "source": [
        "df= pd.read_csv('tcc_ceds_music.csv')"
      ]
    },
    {
      "cell_type": "code",
      "execution_count": 4,
      "metadata": {
        "colab": {
          "base_uri": "https://localhost:8080/"
        },
        "id": "sPK6kabZXucl",
        "outputId": "8f3c7638-d774-416f-be8b-3638593b8bb7"
      },
      "outputs": [
        {
          "output_type": "execute_result",
          "data": {
            "text/plain": [
              "<bound method NDFrame.head of        Unnamed: 0           artist_name                     track_name  \\\n",
              "0               0                mukesh           mohabbat bhi jhoothi   \n",
              "1               4         frankie laine                      i believe   \n",
              "2               6           johnnie ray                            cry   \n",
              "3              10           pérez prado                       patricia   \n",
              "4              12  giorgos papadopoulos             apopse eida oneiro   \n",
              "...           ...                   ...                            ...   \n",
              "28367       82447               mack 10                10 million ways   \n",
              "28368       82448                m.o.p.  ante up (robbin hoodz theory)   \n",
              "28369       82449                  nine                  whutcha want?   \n",
              "28370       82450            will smith                         switch   \n",
              "28371       82451                 jeezy                         r.i.p.   \n",
              "\n",
              "       release_date    genre  \\\n",
              "0              1950      pop   \n",
              "1              1950      pop   \n",
              "2              1950      pop   \n",
              "3              1950      pop   \n",
              "4              1950      pop   \n",
              "...             ...      ...   \n",
              "28367          2019  hip hop   \n",
              "28368          2019  hip hop   \n",
              "28369          2019  hip hop   \n",
              "28370          2019  hip hop   \n",
              "28371          2019  hip hop   \n",
              "\n",
              "                                                  lyrics  len    dating  \\\n",
              "0      hold time feel break feel untrue convince spea...   95  0.000598   \n",
              "1      believe drop rain fall grow believe darkest ni...   51  0.035537   \n",
              "2      sweetheart send letter goodbye secret feel bet...   24  0.002770   \n",
              "3      kiss lips want stroll charm mambo chacha merin...   54  0.048249   \n",
              "4      till darling till matter know till dream live ...   48  0.001350   \n",
              "...                                                  ...  ...       ...   \n",
              "28367  cause fuck leave scar tick tock clock come kno...   78  0.001350   \n",
              "28368  minks things chain ring braclets yap fame come...   67  0.001284   \n",
              "28369  get ban get ban stick crack relax plan attack ...   77  0.001504   \n",
              "28370  check check yeah yeah hear thing call switch g...   67  0.001196   \n",
              "28371  remix killer alive remix thriller trap bitch s...   83  0.001012   \n",
              "\n",
              "       violence  world/life  ...   sadness  feelings  danceability  loudness  \\\n",
              "0      0.063746    0.000598  ...  0.380299  0.117175      0.357739  0.454119   \n",
              "1      0.096777    0.443435  ...  0.001284  0.001284      0.331745  0.647540   \n",
              "2      0.002770    0.002770  ...  0.002770  0.225422      0.456298  0.585288   \n",
              "3      0.001548    0.001548  ...  0.225889  0.001548      0.686992  0.744404   \n",
              "4      0.001350    0.417772  ...  0.068800  0.001350      0.291671  0.646489   \n",
              "...         ...         ...  ...       ...       ...           ...       ...   \n",
              "28367  0.001350    0.001350  ...  0.065664  0.001350      0.889527  0.759711   \n",
              "28368  0.001284    0.035338  ...  0.001284  0.001284      0.662082  0.789580   \n",
              "28369  0.154302    0.168988  ...  0.001504  0.001504      0.663165  0.726970   \n",
              "28370  0.001196    0.001196  ...  0.001196  0.001196      0.883028  0.786888   \n",
              "28371  0.075202    0.001012  ...  0.001012  0.033995      0.828875  0.674794   \n",
              "\n",
              "       acousticness  instrumentalness   valence    energy       topic  \\\n",
              "0          0.997992          0.901822  0.339448  0.137110     sadness   \n",
              "1          0.954819          0.000002  0.325021  0.263240  world/life   \n",
              "2          0.840361          0.000000  0.351814  0.139112       music   \n",
              "3          0.083935          0.199393  0.775350  0.743736    romantic   \n",
              "4          0.975904          0.000246  0.597073  0.394375    romantic   \n",
              "...             ...               ...       ...       ...         ...   \n",
              "28367      0.062549          0.000000  0.751649  0.695686     obscene   \n",
              "28368      0.004607          0.000002  0.922712  0.797791     obscene   \n",
              "28369      0.104417          0.000001  0.838211  0.767761     obscene   \n",
              "28370      0.007027          0.000503  0.508450  0.885882     obscene   \n",
              "28371      0.015862          0.000000  0.475474  0.492477     obscene   \n",
              "\n",
              "            age  \n",
              "0      1.000000  \n",
              "1      1.000000  \n",
              "2      1.000000  \n",
              "3      1.000000  \n",
              "4      1.000000  \n",
              "...         ...  \n",
              "28367  0.014286  \n",
              "28368  0.014286  \n",
              "28369  0.014286  \n",
              "28370  0.014286  \n",
              "28371  0.014286  \n",
              "\n",
              "[28372 rows x 31 columns]>"
            ]
          },
          "metadata": {},
          "execution_count": 4
        }
      ],
      "source": [
        "df.head"
      ]
    },
    {
      "cell_type": "code",
      "execution_count": 7,
      "metadata": {
        "colab": {
          "base_uri": "https://localhost:8080/"
        },
        "id": "Nw3rK4q5X0XC",
        "outputId": "11e805cb-99c9-4af3-c4aa-066ba31c7477"
      },
      "outputs": [
        {
          "output_type": "execute_result",
          "data": {
            "text/plain": [
              "(28372, 31)"
            ]
          },
          "metadata": {},
          "execution_count": 7
        }
      ],
      "source": [
        "df.shape"
      ]
    },
    {
      "cell_type": "code",
      "execution_count": 8,
      "metadata": {
        "id": "9bolKATgX4mp"
      },
      "outputs": [],
      "source": [
        "new_df=df[['artist_name','track_name','release_date','genre','loudness','topic']]"
      ]
    },
    {
      "cell_type": "code",
      "execution_count": 9,
      "metadata": {
        "colab": {
          "base_uri": "https://localhost:8080/"
        },
        "id": "_NBqDb_kX90e",
        "outputId": "75dc1a10-27b9-4c5b-ee70-6f28d07b63f3"
      },
      "outputs": [
        {
          "output_type": "stream",
          "name": "stdout",
          "text": [
            "                artist_name                     track_name  release_date  \\\n",
            "0                    mukesh           mohabbat bhi jhoothi          1950   \n",
            "1             frankie laine                      i believe          1950   \n",
            "2               johnnie ray                            cry          1950   \n",
            "3               pérez prado                       patricia          1950   \n",
            "4      giorgos papadopoulos             apopse eida oneiro          1950   \n",
            "...                     ...                            ...           ...   \n",
            "28367               mack 10                10 million ways          2019   \n",
            "28368                m.o.p.  ante up (robbin hoodz theory)          2019   \n",
            "28369                  nine                  whutcha want?          2019   \n",
            "28370            will smith                         switch          2019   \n",
            "28371                 jeezy                         r.i.p.          2019   \n",
            "\n",
            "         genre  loudness       topic  \n",
            "0          pop  0.454119     sadness  \n",
            "1          pop  0.647540  world/life  \n",
            "2          pop  0.585288       music  \n",
            "3          pop  0.744404    romantic  \n",
            "4          pop  0.646489    romantic  \n",
            "...        ...       ...         ...  \n",
            "28367  hip hop  0.759711     obscene  \n",
            "28368  hip hop  0.789580     obscene  \n",
            "28369  hip hop  0.726970     obscene  \n",
            "28370  hip hop  0.786888     obscene  \n",
            "28371  hip hop  0.674794     obscene  \n",
            "\n",
            "[28372 rows x 6 columns]\n"
          ]
        }
      ],
      "source": [
        "print(new_df)"
      ]
    },
    {
      "cell_type": "code",
      "execution_count": 10,
      "metadata": {
        "colab": {
          "base_uri": "https://localhost:8080/"
        },
        "id": "bB_nlhS8YHbe",
        "outputId": "ef686c5d-db2c-4827-9c51-36caefcfc8e4"
      },
      "outputs": [
        {
          "output_type": "execute_result",
          "data": {
            "text/plain": [
              "artist_name     0\n",
              "track_name      0\n",
              "release_date    0\n",
              "genre           0\n",
              "loudness        0\n",
              "topic           0\n",
              "dtype: int64"
            ]
          },
          "metadata": {},
          "execution_count": 10
        }
      ],
      "source": [
        "new_df.isnull().sum()"
      ]
    },
    {
      "cell_type": "code",
      "execution_count": 11,
      "metadata": {
        "colab": {
          "base_uri": "https://localhost:8080/"
        },
        "id": "UIShVTwPYNPm",
        "outputId": "c3283091-7c39-4fbe-bc45-75c8bfccc610"
      },
      "outputs": [
        {
          "output_type": "execute_result",
          "data": {
            "text/plain": [
              "0"
            ]
          },
          "metadata": {},
          "execution_count": 11
        }
      ],
      "source": [
        "new_df.duplicated().sum()"
      ]
    },
    {
      "cell_type": "code",
      "execution_count": 12,
      "metadata": {
        "id": "clY3aocJYpNf"
      },
      "outputs": [],
      "source": [
        "music_know = new_df['artist_name']+''+ new_df['track_name']+''+['release_date']+''+ new_df['genre']+''+['loudness']+''+  new_df['topic']"
      ]
    },
    {
      "cell_type": "markdown",
      "metadata": {
        "id": "tHdtBR0sIhVH"
      },
      "source": [
        "Using NLP"
      ]
    },
    {
      "cell_type": "code",
      "execution_count": 13,
      "metadata": {
        "colab": {
          "base_uri": "https://localhost:8080/"
        },
        "id": "UMdwsSAoIDj9",
        "outputId": "3824e269-0600-4cec-ac7a-166439ebfd45"
      },
      "outputs": [
        {
          "output_type": "stream",
          "name": "stdout",
          "text": [
            "0        mukeshmohabbat bhi jhoothirelease_datepoploudn...\n",
            "1        frankie lainei believerelease_datepoploudnessw...\n",
            "2               johnnie raycryrelease_datepoploudnessmusic\n",
            "3        pérez pradopatriciarelease_datepoploudnessroma...\n",
            "4        giorgos papadopoulosapopse eida oneirorelease_...\n",
            "                               ...                        \n",
            "28367    mack 1010 million waysrelease_datehip hoploudn...\n",
            "28368    m.o.p.ante up (robbin hoodz theory)release_dat...\n",
            "28369    ninewhutcha want?release_datehip hoploudnessob...\n",
            "28370    will smithswitchrelease_datehip hoploudnessobs...\n",
            "28371        jeezyr.i.p.release_datehip hoploudnessobscene\n",
            "Length: 28372, dtype: object\n"
          ]
        }
      ],
      "source": [
        "print(music_know)\n"
      ]
    },
    {
      "cell_type": "code",
      "execution_count": 14,
      "metadata": {
        "id": "50meoKLpIyMs"
      },
      "outputs": [],
      "source": [
        "# converting the text data into vector form usinng vectorization in NLP\n",
        "\n",
        "vectorizer = TfidfVectorizer()"
      ]
    },
    {
      "cell_type": "code",
      "execution_count": 15,
      "metadata": {
        "id": "Wb8QDBLyI46c"
      },
      "outputs": [],
      "source": [
        "music_vector =  vectorizer.fit_transform(music_know)"
      ]
    },
    {
      "cell_type": "code",
      "execution_count": 16,
      "metadata": {
        "colab": {
          "base_uri": "https://localhost:8080/"
        },
        "id": "fpp0kr-QJJFo",
        "outputId": "02730995-c8d3-4a67-abb1-0d802328ca04"
      },
      "outputs": [
        {
          "output_type": "stream",
          "name": "stdout",
          "text": [
            "  (0, 20105)\t0.5773502691896257\n",
            "  (0, 3847)\t0.5773502691896257\n",
            "  (0, 26874)\t0.5773502691896257\n",
            "  (1, 22573)\t0.17495188315789315\n",
            "  (1, 3447)\t0.5558437946892699\n",
            "  (1, 21870)\t0.6513619485773964\n",
            "  (1, 14635)\t0.4859600049699531\n",
            "  (2, 31862)\t0.7693577517616439\n",
            "  (2, 20239)\t0.6388181664638763\n",
            "  (3, 30581)\t0.7071067811865476\n",
            "  (3, 31251)\t0.7071067811865476\n",
            "  (4, 28301)\t0.5\n",
            "  (4, 12351)\t0.5\n",
            "  (4, 29087)\t0.5\n",
            "  (4, 15750)\t0.5\n",
            "  (5, 32258)\t0.2252472965373977\n",
            "  (5, 35585)\t0.3034191172003423\n",
            "  (5, 7078)\t0.27646924582691096\n",
            "  (5, 31861)\t0.20529528024451407\n",
            "  (5, 39167)\t0.08367696393302128\n",
            "  (5, 28504)\t0.31438817312100303\n",
            "  (5, 18134)\t0.23127579830113662\n",
            "  (5, 2268)\t0.31438817312100303\n",
            "  (5, 26006)\t0.3084444573122416\n",
            "  (5, 43550)\t0.17451841742325636\n",
            "  :\t:\n",
            "  (28366, 18486)\t0.2810770230821819\n",
            "  (28366, 33378)\t0.6064538983842818\n",
            "  (28366, 39167)\t0.15329277408125547\n",
            "  (28367, 42561)\t0.5248466957765208\n",
            "  (28367, 17)\t0.5248466957765208\n",
            "  (28367, 18486)\t0.23391399926793058\n",
            "  (28367, 23725)\t0.4625829045790974\n",
            "  (28367, 25689)\t0.4247036486805648\n",
            "  (28368, 18406)\t0.46691090879621916\n",
            "  (28368, 32976)\t0.46691090879621916\n",
            "  (28368, 1589)\t0.46691090879621916\n",
            "  (28368, 32243)\t0.2689461098000262\n",
            "  (28368, 18486)\t0.20809314197312223\n",
            "  (28368, 39210)\t0.39574984452212114\n",
            "  (28368, 41327)\t0.2715325111090182\n",
            "  (28369, 27801)\t0.7208642327940635\n",
            "  (28369, 32243)\t0.4152261758111096\n",
            "  (28369, 18486)\t0.32127521613257193\n",
            "  (28369, 42217)\t0.45246460226019547\n",
            "  (28370, 36181)\t0.8002087278121721\n",
            "  (28370, 18486)\t0.356637519637447\n",
            "  (28370, 43141)\t0.48215730993118294\n",
            "  (28371, 19933)\t0.8083409835915591\n",
            "  (28371, 32243)\t0.46561380090555954\n",
            "  (28371, 18486)\t0.3602619084117952\n"
          ]
        }
      ],
      "source": [
        "print(music_vector)"
      ]
    },
    {
      "cell_type": "markdown",
      "metadata": {
        "id": "1DMWU0ClJTjN"
      },
      "source": [
        "Cosine Similarity"
      ]
    },
    {
      "cell_type": "code",
      "execution_count": 17,
      "metadata": {
        "id": "xgPSEBJtJOk5"
      },
      "outputs": [],
      "source": [
        "# finding similarity between musics using Cosine similarity Algorithm\n",
        "\n",
        "similarity = cosine_similarity(music_vector)"
      ]
    },
    {
      "cell_type": "code",
      "execution_count": 18,
      "metadata": {
        "colab": {
          "base_uri": "https://localhost:8080/"
        },
        "id": "MkN56mR6Jg7s",
        "outputId": "902784f4-9cf3-4adc-8e38-9200b70978ba"
      },
      "outputs": [
        {
          "output_type": "stream",
          "name": "stdout",
          "text": [
            "[[1.         0.         0.         ... 0.         0.         0.        ]\n",
            " [0.         1.         0.         ... 0.         0.         0.        ]\n",
            " [0.         0.         1.         ... 0.         0.         0.        ]\n",
            " ...\n",
            " [0.         0.         0.         ... 1.         0.1145788  0.30907826]\n",
            " [0.         0.         0.         ... 0.1145788  1.         0.12848291]\n",
            " [0.         0.         0.         ... 0.30907826 0.12848291 1.        ]]\n"
          ]
        }
      ],
      "source": [
        "print(similarity)"
      ]
    },
    {
      "cell_type": "code",
      "execution_count": 19,
      "metadata": {
        "colab": {
          "base_uri": "https://localhost:8080/"
        },
        "id": "VjVxnvdcJj14",
        "outputId": "2224f3c1-d0f0-41c8-ad0a-60dd93fa92f5"
      },
      "outputs": [
        {
          "output_type": "execute_result",
          "data": {
            "text/plain": [
              "(28372, 28372)"
            ]
          },
          "metadata": {},
          "execution_count": 19
        }
      ],
      "source": [
        "similarity.shape"
      ]
    },
    {
      "cell_type": "code",
      "source": [
        "music_name = input('Enter Your Fourite Music Name : ')"
      ],
      "metadata": {
        "id": "gl-QdtfCki1y"
      },
      "execution_count": null,
      "outputs": []
    },
    {
      "cell_type": "code",
      "source": [
        "#creating the list of all music in the data\n",
        "\n",
        "list_of_all_musics = new_df['artist_name'].tolist()\n"
      ],
      "metadata": {
        "id": "4LSubKNLkkZg"
      },
      "execution_count": null,
      "outputs": []
    },
    {
      "cell_type": "code",
      "source": [
        "print(list_of_all_musics)"
      ],
      "metadata": {
        "id": "jwCp5HKskkcP"
      },
      "execution_count": null,
      "outputs": []
    },
    {
      "cell_type": "code",
      "source": [
        "# finding the close match for music enter by user\n",
        "\n",
        "close_match = difflib.get_close_matches(music_name,list_of_all_musics)"
      ],
      "metadata": {
        "id": "NJG9NFKClMI5"
      },
      "execution_count": null,
      "outputs": []
    },
    {
      "cell_type": "code",
      "source": [
        ""
      ],
      "metadata": {
        "id": "18tJFuzL7qt5"
      },
      "execution_count": null,
      "outputs": []
    },
    {
      "cell_type": "code",
      "source": [
        "print(close_match)"
      ],
      "metadata": {
        "id": "NlaIAPYDltCm"
      },
      "execution_count": null,
      "outputs": []
    },
    {
      "cell_type": "code",
      "source": [
        "find_close_match =  close_match[0]"
      ],
      "metadata": {
        "id": "1GExsMaflv5g"
      },
      "execution_count": null,
      "outputs": []
    },
    {
      "cell_type": "code",
      "source": [
        "print(find_close_match)\n"
      ],
      "metadata": {
        "id": "iD0Lzb6gl0uB"
      },
      "execution_count": null,
      "outputs": []
    },
    {
      "cell_type": "code",
      "source": [
        "topic =new_df[df.artist_name == find_close_match]['release_date'].values[0]\n",
        "print(topic)\n"
      ],
      "metadata": {
        "id": "puonXs8bl7sb"
      },
      "execution_count": null,
      "outputs": []
    },
    {
      "cell_type": "code",
      "source": [
        "similarity_score = list(enumerate(similarity[topic]))"
      ],
      "metadata": {
        "id": "z95fwLAHmB4R"
      },
      "execution_count": null,
      "outputs": []
    },
    {
      "cell_type": "code",
      "source": [
        "print(similarity_score)"
      ],
      "metadata": {
        "id": "bO0BXKGJmIJZ"
      },
      "execution_count": null,
      "outputs": []
    },
    {
      "cell_type": "code",
      "source": [
        "len(similarity_score)"
      ],
      "metadata": {
        "id": "1u68TRA4m_q2"
      },
      "execution_count": null,
      "outputs": []
    },
    {
      "cell_type": "code",
      "source": [
        "# sorting movies based on similarity\n",
        "\n",
        "sorted_similar_musics = sorted(similarity_score , key = lambda x:x[1], reverse = True)"
      ],
      "metadata": {
        "id": "BVIc1vDHnLg1"
      },
      "execution_count": null,
      "outputs": []
    },
    {
      "cell_type": "code",
      "source": [
        "print(sorted_similar_musics)"
      ],
      "metadata": {
        "id": "TMPEeKmHndA1"
      },
      "execution_count": null,
      "outputs": []
    },
    {
      "cell_type": "code",
      "source": [
        "# print the similar music \n",
        "\n",
        "print(\"Music Suggested For You : \\n\")\n",
        "\n",
        "i = 1\n",
        "\n",
        "for music in sorted_similar_musics:\n",
        "    release_date = music[0]\n",
        "    artist_name_from_release_date=df[df.release_date== release_date]['artist_name'].values[1968]\n",
        "    if(i<51):\n",
        "        print(i,'.',artist_name_from_release_date)\n",
        "        i+=1\n"
      ],
      "metadata": {
        "id": "8hg6_DRLnkgV"
      },
      "execution_count": null,
      "outputs": []
    }
  ],
  "metadata": {
    "colab": {
      "collapsed_sections": [],
      "name": "Data Science.ipynb",
      "provenance": []
    },
    "kernelspec": {
      "display_name": "Python 3",
      "name": "python3"
    },
    "language_info": {
      "name": "python"
    }
  },
  "nbformat": 4,
  "nbformat_minor": 0
}